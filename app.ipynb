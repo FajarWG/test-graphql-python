{
 "cells": [
  {
   "cell_type": "code",
   "execution_count": 6,
   "metadata": {},
   "outputs": [],
   "source": [
    "import graphene"
   ]
  },
  {
   "cell_type": "code",
   "execution_count": 10,
   "metadata": {},
   "outputs": [],
   "source": [
    "class Book(graphene.ObjectType):\n",
    "    title = graphene.String()\n",
    "    author = graphene.String()\n",
    "\n",
    "class Query(graphene.ObjectType):\n",
    "    book = graphene.Field(Book)\n",
    "    books = graphene.List(Book)\n",
    "\n",
    "    def resolve_book(self, info):\n",
    "        return Book(title=\"Hello World\", author=\"Me\")\n",
    "    \n",
    "    def resolve_books(self, info):\n",
    "        return [\n",
    "            Book(title=\"The Author of the Rings\", author=\"J.R.R. Tolkien\"),\n",
    "            Book(title=\"The Catcher in the Rye\", author=\"J.D. Salinger\"),\n",
    "            Book(title=\"The Great Gatsby\", author=\"F. Scott Fitzgerald\")\n",
    "        ]\n",
    "     \n",
    "schema = graphene.Schema(query=Query)"
   ]
  },
  {
   "cell_type": "code",
   "execution_count": 13,
   "metadata": {},
   "outputs": [
    {
     "name": "stdout",
     "output_type": "stream",
     "text": [
      "{'book': {'title': 'Hello World', 'author': 'Me'}}\n"
     ]
    }
   ],
   "source": [
    "q = '''\n",
    "{\n",
    "    book {\n",
    "        title\n",
    "        author\n",
    "    }\n",
    "} \n",
    "'''\n",
    "\n",
    "results = schema.execute(q)\n",
    "print(results.data)\n",
    "\n"
   ]
  },
  {
   "cell_type": "code",
   "execution_count": 18,
   "metadata": {},
   "outputs": [
    {
     "name": "stdout",
     "output_type": "stream",
     "text": [
      "{'books': [{'title': 'The Author of the Rings', 'author': 'J.R.R. Tolkien'}, {'title': 'The Catcher in the Rye', 'author': 'J.D. Salinger'}, {'title': 'The Great Gatsby', 'author': 'F. Scott Fitzgerald'}]}\n"
     ]
    }
   ],
   "source": [
    "qs = '''\n",
    "{\n",
    "    books {\n",
    "        title\n",
    "        author\n",
    "    }\n",
    "}\n",
    "'''\n",
    "\n",
    "results = schema.execute(qs)\n",
    "print(results.data)"
   ]
  }
 ],
 "metadata": {
  "kernelspec": {
   "display_name": ".venv",
   "language": "python",
   "name": "python3"
  },
  "language_info": {
   "codemirror_mode": {
    "name": "ipython",
    "version": 3
   },
   "file_extension": ".py",
   "mimetype": "text/x-python",
   "name": "python",
   "nbconvert_exporter": "python",
   "pygments_lexer": "ipython3",
   "version": "3.10.11"
  }
 },
 "nbformat": 4,
 "nbformat_minor": 2
}
